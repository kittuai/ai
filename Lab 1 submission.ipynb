{
 "cells": [
  {
   "cell_type": "markdown",
   "id": "169d3fcf",
   "metadata": {},
   "source": [
    "# Lab 1 – Basic NumPy Operations\n",
    "\n",
    "**Course:** Artificial Intelligence Algorithms and Mathematics (CSCN8000)  \n",
    "**Student Name:** Krishna Reddy Bovilla  \n",
    "**Student ID:** 9050861  \n",
    "\n",
    "- **GitHub Repository:** [https://github.com/Conestoga-College-Poworoznyk/assignment1-kittuai](https://github.com/Conestoga-College-Poworoznyk/assignment1-kittuai)  \n",
    "- **Live Notebook Page:** [https://kittuai.github.io/ai/](https://kittuai.github.io/ai/)\n"
   ]
  },
  {
   "cell_type": "markdown",
   "id": "f0e2c15f",
   "metadata": {},
   "source": [
    "### importing numpy library for numy operations\n"
   ]
  },
  {
   "cell_type": "code",
   "execution_count": 2,
   "id": "93c31c71",
   "metadata": {},
   "outputs": [],
   "source": [
    "import numpy as np"
   ]
  },
  {
   "cell_type": "markdown",
   "id": "9bcbd189",
   "metadata": {},
   "source": [
    "### 2.  Create an array that starts from the integer 1, ends at 20, incremented by 3."
   ]
  },
  {
   "cell_type": "code",
   "execution_count": 3,
   "id": "7b149080",
   "metadata": {},
   "outputs": [
    {
     "name": "stdout",
     "output_type": "stream",
     "text": [
      "array with step 3: [ 1  4  7 10 13 16 19]\n"
     ]
    }
   ],
   "source": [
    "#  array from 1 to 20 and step with step 3\n",
    "my_array = np.arange(1, 21, 3)\n",
    "print(\"array with step 3:\",my_array)"
   ]
  },
  {
   "cell_type": "markdown",
   "id": "4d10c3c8",
   "metadata": {},
   "source": [
    "### 3.Create a new array of shape 3 with random numbers between 0 and 1.\n"
   ]
  },
  {
   "cell_type": "code",
   "execution_count": 4,
   "id": "bbc520f7",
   "metadata": {},
   "outputs": [
    {
     "name": "stdout",
     "output_type": "stream",
     "text": [
      "random numbers: [0.7228626  0.93908393 0.01921186]\n"
     ]
    }
   ],
   "source": [
    "# random numbers between 0 and 1\n",
    "random_array = np.random.rand(3)\n",
    "print(\"random numbers:\",random_array)"
   ]
  },
  {
   "cell_type": "markdown",
   "id": "796d759e",
   "metadata": {},
   "source": [
    "### 4.Create a 2 D array and perform the following operations: \n"
   ]
  },
  {
   "cell_type": "code",
   "execution_count": 5,
   "id": "f3b70f22",
   "metadata": {},
   "outputs": [
    {
     "name": "stdout",
     "output_type": "stream",
     "text": [
      "2D array:\n",
      "[[10 20 45]\n",
      " [30 12 16]\n",
      " [42 17 56]]\n"
     ]
    }
   ],
   "source": [
    "my_2darray = np.array([[10, 20, 45], [30, 12, 16], [42, 17, 56]])\n",
    "print(\"2D array:\")\n",
    "print(my_2darray)\n"
   ]
  },
  {
   "cell_type": "code",
   "execution_count": 6,
   "id": "197aee81",
   "metadata": {},
   "outputs": [
    {
     "name": "stdout",
     "output_type": "stream",
     "text": [
      "first two rows:\n",
      "[[10 20 45]\n",
      " [30 12 16]]\n"
     ]
    }
   ],
   "source": [
    "# to get first 2 rows\n",
    "a = my_2darray[:2]\n",
    "print(\"first two rows:\")\n",
    "print(a)"
   ]
  },
  {
   "cell_type": "code",
   "execution_count": 7,
   "id": "0602f03c",
   "metadata": {},
   "outputs": [
    {
     "name": "stdout",
     "output_type": "stream",
     "text": [
      "last two rows:\n",
      "[[30 12 16]\n",
      " [42 17 56]]\n"
     ]
    }
   ],
   "source": [
    "# to get last 2 rows\n",
    "b = my_2darray[1:]\n",
    "print(\"last two rows:\")\n",
    "print(b)"
   ]
  },
  {
   "cell_type": "markdown",
   "id": "4bb290b8",
   "metadata": {},
   "source": [
    "### Step 5: Stacking and Splitting 2x2 Arrays\n"
   ]
  },
  {
   "cell_type": "code",
   "execution_count": 8,
   "id": "24f7de2c",
   "metadata": {},
   "outputs": [
    {
     "name": "stdout",
     "output_type": "stream",
     "text": [
      "arr1:\n",
      " [[1 2]\n",
      " [3 4]] \n",
      "\n",
      "arr2:\n",
      " [[5 6]\n",
      " [7 8]] \n",
      "\n",
      "vertical_stack:\n",
      " [[1 2]\n",
      " [3 4]\n",
      " [5 6]\n",
      " [7 8]] \n",
      "\n",
      "horizantal_stack:\n",
      " [[1 2 5 6]\n",
      " [3 4 7 8]] \n",
      "\n",
      "split 1:\n",
      " [[1]\n",
      " [3]] \n",
      "\n",
      "split 2:\n",
      " [[2]\n",
      " [4]] \n",
      "\n"
     ]
    }
   ],
   "source": [
    "# create arrays\n",
    "arr1 = np.array([[1, 2], [3, 4]])\n",
    "arr2 = np.array([[5, 6], [7, 8]])\n",
    "\n",
    "print(\"arr1:\\n\", arr1, \"\\n\")\n",
    "print(\"arr2:\\n\", arr2, \"\\n\")\n",
    "\n",
    "# vertical stack\n",
    "vertical_stack = np.vstack((arr1, arr2))\n",
    "print(\"vertical_stack:\\n\", vertical_stack, \"\\n\")\n",
    "\n",
    "# horizontal stack\n",
    "horizantal_stack = np.hstack((arr1, arr2))\n",
    "print(\"horizantal_stack:\\n\", horizantal_stack, \"\\n\")\n",
    "\n",
    "# split arr1 into two parts\n",
    "split1, split2 = np.hsplit(arr1, 2)\n",
    "print(\"split 1:\\n\", split1, \"\\n\")\n",
    "print(\"split 2:\\n\", split2, \"\\n\")\n"
   ]
  },
  {
   "cell_type": "markdown",
   "id": "0e057c10",
   "metadata": {},
   "source": [
    "### Step 6: Check If Two Matrices Can Be Multiplied"
   ]
  },
  {
   "cell_type": "code",
   "execution_count": 9,
   "id": "e31929cf",
   "metadata": {},
   "outputs": [
    {
     "name": "stdout",
     "output_type": "stream",
     "text": [
      "array 1:\n",
      " [[1 2]\n",
      " [3 4]] \n",
      "\n",
      "array 2:\n",
      " [[5 6]\n",
      " [7 8]] \n",
      "\n",
      "multiplication result:\n",
      " [[70 28]\n",
      " [70 30]\n",
      " [60 26]]\n"
     ]
    }
   ],
   "source": [
    "# create two matrices\n",
    "array1 = np.array([[5, 7, 2], [4, 5, 6], [7, 4, 2]])\n",
    "array2 = np.array([[4, 2], [6, 2], [4, 2]])\n",
    "\n",
    "print(\"array 1:\\n\", arr1, \"\\n\")\n",
    "print(\"array 2:\\n\", arr2, \"\\n\")\n",
    "\n",
    "# multiply if shapes match\n",
    "if array1.shape[1] == array2.shape[0]:\n",
    "    result = np.dot(array1, array2)\n",
    "    print(\"multiplication result:\\n\", result)\n",
    "else:\n",
    "    print(\"can't multiply, shape mismatch\")\n"
   ]
  },
  {
   "cell_type": "markdown",
   "id": "588b7c55",
   "metadata": {},
   "source": [
    "### Step 6 : When Matrix Multiplication Doesn't Work\n"
   ]
  },
  {
   "cell_type": "code",
   "execution_count": 10,
   "id": "615616e9",
   "metadata": {},
   "outputs": [
    {
     "name": "stdout",
     "output_type": "stream",
     "text": [
      "a:\n",
      " [[1 2]\n",
      " [3 4]] \n",
      "\n",
      "b:\n",
      " [[5 6 7]] \n",
      "\n",
      "can't multiply, sizes don't match\n"
     ]
    }
   ],
   "source": [
    "# create two matrices that can't be multiplied\n",
    "a = np.array([[1, 2], [3, 4]])\n",
    "b = np.array([[5, 6, 7]])\n",
    "\n",
    "print(\"a:\\n\", a, \"\\n\")\n",
    "print(\"b:\\n\", b, \"\\n\")\n",
    "\n",
    "# check if we can multiply\n",
    "if a.shape[1] == b.shape[0]:\n",
    "    res = np.dot(a, b)\n",
    "    print(\"result:\\n\", res)\n",
    "else:\n",
    "    print(\"can't multiply, sizes don't match\")\n"
   ]
  },
  {
   "cell_type": "markdown",
   "id": "91a4964b",
   "metadata": {},
   "source": [
    "### explanation\n",
    "\n",
    "We tried two examples:\n",
    "\n",
    "- In the first one, we multiplied matrix `array 1` (3x3) with matrix `array 2` (3x2).  \n",
    "  This works because the middle sizes match (3 and 3).\n",
    "\n",
    "- In the second one, we tried to multiply matrix `a` (2x2) with matrix `b` (1x3).  \n",
    "  This does not work because the middle sizes don’t match (2 and 1).\n",
    "\n",
    "Matrix multiplication only works when:\n",
    "**columns of the first matrix = rows of the second matrix**\n"
   ]
  },
  {
   "cell_type": "markdown",
   "id": "29f49d26",
   "metadata": {},
   "source": [
    "### Step 7:  Create Arrays & Check Shape & Dimensions of x"
   ]
  },
  {
   "cell_type": "code",
   "execution_count": 11,
   "id": "bddbeb98",
   "metadata": {},
   "outputs": [
    {
     "name": "stdout",
     "output_type": "stream",
     "text": [
      "shape of x: (3,)\n",
      "number of dimensions of x: 1\n"
     ]
    }
   ],
   "source": [
    "x = np.array([2, -1, -8])\n",
    "y = np.array([3, 1, -2])\n",
    "\n",
    "print(\"shape of x:\", x.shape)\n",
    "print(\"number of dimensions of x:\", x.ndim)\n"
   ]
  },
  {
   "cell_type": "markdown",
   "id": "7ba91c50",
   "metadata": {},
   "source": [
    "### Reshape x to (3,1) and Check New Shape & Dimensions"
   ]
  },
  {
   "cell_type": "code",
   "execution_count": 12,
   "id": "45ac7e15",
   "metadata": {},
   "outputs": [
    {
     "name": "stdout",
     "output_type": "stream",
     "text": [
      "x after reshape: (3, 1)\n",
      "x dimensions after reshape: 2\n"
     ]
    }
   ],
   "source": [
    "x_new = x.reshape(3, 1)\n",
    "print(\"x after reshape:\", x_new.shape)\n",
    "print(\"x dimensions after reshape:\", x_new.ndim)\n"
   ]
  },
  {
   "cell_type": "markdown",
   "id": "7bfead74",
   "metadata": {},
   "source": [
    "### Reshape y to (3,1) and Check New Shape/Dimensions"
   ]
  },
  {
   "cell_type": "code",
   "execution_count": 13,
   "id": "2334b4e5",
   "metadata": {},
   "outputs": [
    {
     "name": "stdout",
     "output_type": "stream",
     "text": [
      "original shape of y: (3,)\n",
      "original dimensions of y: 1\n",
      "y after reshape: (3, 1)\n",
      "y dimensions after reshape: 2\n"
     ]
    }
   ],
   "source": [
    "y_new = y.reshape(3, 1)\n",
    "# check original shape and dimensions of y\n",
    "print(\"original shape of y:\", y.shape)\n",
    "print(\"original dimensions of y:\", y.ndim)\n",
    "\n",
    "# reshape y to 3 rows, 1 column\n",
    "y_new = y.reshape(3, 1)\n",
    "print(\"y after reshape:\", y_new.shape)\n",
    "print(\"y dimensions after reshape:\", y_new.ndim)\n",
    "\n"
   ]
  },
  {
   "cell_type": "markdown",
   "id": "c3092411",
   "metadata": {},
   "source": [
    "### Step 8: Broadcasting\n"
   ]
  },
  {
   "cell_type": "code",
   "execution_count": 14,
   "id": "085326ba",
   "metadata": {},
   "outputs": [
    {
     "name": "stdout",
     "output_type": "stream",
     "text": [
      "a - b:\n",
      " [[0 0 0]\n",
      " [3 3 3]\n",
      " [6 6 6]] \n",
      "\n",
      "a * b:\n",
      " [[ 1  4  9]\n",
      " [ 4 10 18]\n",
      " [ 7 16 27]]\n"
     ]
    }
   ],
   "source": [
    "a = np.array([[1, 2, 3],\n",
    "              [4, 5, 6],\n",
    "              [7, 8, 9]])\n",
    "\n",
    "b = np.array([1, 2, 3])\n",
    "\n",
    "# subtract\n",
    "sub = a - b\n",
    "print(\"a - b:\\n\", sub, \"\\n\")\n",
    "\n",
    "# multiply\n",
    "mul = a * b\n",
    "print(\"a * b:\\n\", mul)\n"
   ]
  },
  {
   "cell_type": "markdown",
   "id": "cf50efa3",
   "metadata": {},
   "source": [
    "Broadcasting means NumPy lets us do math between a big array and a small one.\n",
    "\n",
    "We used this matrix and array:\n",
    "\n",
    "Matrix a :\n",
    "    [[1, 2, 3],\n",
    "     [4, 5, 6],\n",
    "     [7, 8, 9]]\n",
    "\n",
    "Array b :\n",
    "    [1, 2, 3]\n",
    "\n",
    "Now we do:\n",
    "\n",
    "#### Subtraction: a - b\n",
    "\n",
    "Row 1: [1, 2, 3] - [1, 2, 3] = [0, 0, 0]  \n",
    "Row 2: [4, 5, 6] - [1, 2, 3] = [3, 3, 3]  \n",
    "Row 3: [7, 8, 9] - [1, 2, 3] = [6, 6, 6]\n",
    "\n",
    "#### Multiplication: a * b\n",
    "\n",
    "Row 1: [1, 2, 3] * [1, 2, 3] = [1, 4, 9]  \n",
    "Row 2: [4, 5, 6] * [1, 2, 3] = [4, 10, 18]  \n",
    "Row 3: [7, 8, 9] * [1, 2, 3] = [7, 16, 27]\n",
    "\n",
    "Even though `b` is smaller, NumPy repeats it to match every row in `a`.  \n",
    "This is called **broadcasting**, NumPy do math between arrays that are not the same size by matching them automatically.\n",
    "\n"
   ]
  },
  {
   "cell_type": "markdown",
   "id": "0b9ce17e",
   "metadata": {},
   "source": [
    "## Step 9: Overview\n",
    "\n",
    "This is a summary of what we did in each step of the lab using NumPy:\n",
    "\n",
    "- **Step 1:** We started by importing the NumPy library so we could use its functions for arrays and matrix operations.\n",
    "\n",
    "- **Step 2:** We created an array that starts from 1 and ends at 20, going up by 3. This helped us learn how to use `np.arange()` to make number sequences.`\n",
    "\n",
    "- **Step 3:** We made a new array with 3 random numbers between 0 and 1 using `np.random.rand()`. This was our first look at generating random values in NumPy.\n",
    "\n",
    "- **Step 4:** We created a 2D array and learned how to slice it. We took the first two rows and then the last two rows to understand how slicing works in two dimensions.\n",
    "\n",
    "- **Step 5:** We made two 2x2 arrays and stacked them vertically and horizontally using `vstack` and `hstack`. We also split one of them into smaller arrays using `hsplit()`.\n",
    "\n",
    "- **Step 6:** We tried matrix multiplication using `np.dot()`. First, we used two matrices that worked together, and then we showed a case where the shapes didn’t match, so the multiplication could not happen.\n",
    "\n",
    "- **Step 7:** We created two 1D arrays and checked their shape and number of dimensions. Then we reshaped both into column-style (3,1) matrices and saw how the dimensions changed from 1D to 2D.\n",
    "\n",
    "- **Step 8:** We used broadcasting to subtract and multiply a 1D array from a 3x3 matrix. We learned how NumPy automatically lines up the smaller array with each row of the bigger one to perform the operation.\n",
    "\n",
    "This lab helped us understand the basics of NumPy, including arrays, slicing, reshaping, matrix operations, and broadcasting.\n"
   ]
  },
  {
   "cell_type": "markdown",
   "id": "df15f009",
   "metadata": {},
   "source": [
    "# Part - B"
   ]
  },
  {
   "cell_type": "code",
   "execution_count": 15,
   "id": "9fef3da2",
   "metadata": {},
   "outputs": [
    {
     "name": "stdout",
     "output_type": "stream",
     "text": [
      "System 1 solution: [ 1.6692112 -1.5826972 -1.8524173]\n",
      "Rank of A1: 2\n",
      "Rank of [A1|b1]: 2\n",
      "Infinite solutions\n",
      "\n",
      "System 2 solution: [ 7.46067416 -4.62921348 -6.17977528]\n",
      "Rank of A2: 2\n",
      "Rank of [A2|b2]: 2\n",
      "Infinite solutions\n"
     ]
    }
   ],
   "source": [
    "import numpy as np  # using numpy for matrix calculations\n",
    "\n",
    "# System 1\n",
    "# Equations: \n",
    "# 2x1 + 3x2 - 4x3 = 6\n",
    "# x1 - 4x2 = 8\n",
    "\n",
    "A1 = np.array([\n",
    "    [2, 3, -4],\n",
    "    [1, -4, 0]\n",
    "])\n",
    "\n",
    "b1 = np.array([6, 8])\n",
    "\n",
    "sol1, _, _, _ = np.linalg.lstsq(A1, b1, rcond=None)\n",
    "\n",
    "rank_A1 = np.linalg.matrix_rank(A1)\n",
    "rank_aug1 = np.linalg.matrix_rank(np.column_stack((A1, b1)))\n",
    "vars1 = A1.shape[1]\n",
    "\n",
    "print(\"System 1 solution:\", sol1)\n",
    "print(\"Rank of A1:\", rank_A1)\n",
    "print(\"Rank of [A1|b1]:\", rank_aug1)\n",
    "\n",
    "if rank_A1 == rank_aug1 == vars1:\n",
    "    print(\"Unique solution\")\n",
    "elif rank_A1 == rank_aug1 < vars1:\n",
    "    print(\"Infinite solutions\")\n",
    "else:\n",
    "    print(\"No solution\")\n",
    "\n",
    "# System 2\n",
    "# 3y1 - 4y2 + 5y3 = 10\n",
    "# -y1 + 2y2 - 4y3 = 8\n",
    "\n",
    "A2 = np.array([\n",
    "    [3, -4, 5],\n",
    "    [-1, 2, -4]\n",
    "])\n",
    "\n",
    "b2 = np.array([10, 8])\n",
    "\n",
    "sol2, _, _, _ = np.linalg.lstsq(A2, b2, rcond=None)\n",
    "\n",
    "rank_A2 = np.linalg.matrix_rank(A2)\n",
    "rank_aug2 = np.linalg.matrix_rank(np.column_stack((A2, b2)))\n",
    "vars2 = A2.shape[1]\n",
    "\n",
    "print(\"\\nSystem 2 solution:\", sol2)\n",
    "print(\"Rank of A2:\", rank_A2)\n",
    "print(\"Rank of [A2|b2]:\", rank_aug2)\n",
    "\n",
    "if rank_A2 == rank_aug2 == vars2:\n",
    "    print(\"Unique solution\")\n",
    "elif rank_A2 == rank_aug2 < vars2:\n",
    "    print(\"Infinite solutions\")\n",
    "else:\n",
    "    print(\"No solution\")\n"
   ]
  },
  {
   "cell_type": "markdown",
   "id": "b84e0b2f",
   "metadata": {},
   "source": [
    "### Part B – Explanation\n",
    "\n",
    "### System 1\n",
    "\n",
    "Equations:\n",
    "1. 2*x1 + 3*x2 - 4*x3 = 6  \n",
    "2. x1 - 4*x2 = 8  \n",
    "\n",
    "- There are 3 unknowns (x1, x2, x3), but we only have 2 equations.  \n",
    "- That means we can't get one exact answer — there could be many.  \n",
    "- So, we use a NumPy function called `lstsq()` to get a best guess.  \n",
    "- We also check the \"rank\" of the matrices to know how many answers are possible.\n",
    "\n",
    "### System 2\n",
    "\n",
    "Equations:\n",
    "1. 3*y1 - 4*y2 + 5*y3 = 10  \n",
    "2. -y1 + 2*y2 - 4*y3 = 8  \n",
    "\n",
    "- This is also a case where we have 3 unknowns but only 2 equations.  \n",
    "- We use the same method as before to solve it.  \n",
    "- After solving, we print the values we got for y1, y2, and y3.  \n",
    "- Then we check the ranks again to see how many answers are possible.\n",
    "\n",
    "### solutions explaination \n",
    "- If both matrix ranks are the same and equal to the number of unknowns → one solution  \n",
    "- If both ranks are the same but less than the number of unknowns → many solutions  \n",
    "- If the ranks are not equal → no solution\n"
   ]
  }
 ],
 "metadata": {
  "kernelspec": {
   "display_name": "da1",
   "language": "python",
   "name": "python3"
  },
  "language_info": {
   "codemirror_mode": {
    "name": "ipython",
    "version": 3
   },
   "file_extension": ".py",
   "mimetype": "text/x-python",
   "name": "python",
   "nbconvert_exporter": "python",
   "pygments_lexer": "ipython3",
   "version": "3.10.16"
  }
 },
 "nbformat": 4,
 "nbformat_minor": 5
}
